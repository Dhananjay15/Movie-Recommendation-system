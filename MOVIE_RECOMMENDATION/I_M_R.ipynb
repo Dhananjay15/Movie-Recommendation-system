{
 "cells": [
  {
   "cell_type": "code",
   "execution_count": 1015,
   "id": "6c637df2",
   "metadata": {},
   "outputs": [],
   "source": [
    "import pandas as pd\n",
    "import numpy as np"
   ]
  },
  {
   "cell_type": "code",
   "execution_count": 1016,
   "id": "0f103301",
   "metadata": {},
   "outputs": [
    {
     "data": {
      "text/html": [
       "<div>\n",
       "<style scoped>\n",
       "    .dataframe tbody tr th:only-of-type {\n",
       "        vertical-align: middle;\n",
       "    }\n",
       "\n",
       "    .dataframe tbody tr th {\n",
       "        vertical-align: top;\n",
       "    }\n",
       "\n",
       "    .dataframe thead th {\n",
       "        text-align: right;\n",
       "    }\n",
       "</style>\n",
       "<table border=\"1\" class=\"dataframe\">\n",
       "  <thead>\n",
       "    <tr style=\"text-align: right;\">\n",
       "      <th></th>\n",
       "      <th>adult</th>\n",
       "      <th>backdrop_path</th>\n",
       "      <th>genre_ids</th>\n",
       "      <th>id</th>\n",
       "      <th>original_language</th>\n",
       "      <th>original_title</th>\n",
       "      <th>overview</th>\n",
       "      <th>popularity</th>\n",
       "      <th>poster_path</th>\n",
       "      <th>release_date</th>\n",
       "      <th>title</th>\n",
       "      <th>video</th>\n",
       "      <th>vote_average</th>\n",
       "      <th>vote_count</th>\n",
       "      <th>KEYWORDS</th>\n",
       "      <th>GENRES</th>\n",
       "      <th>CAST</th>\n",
       "    </tr>\n",
       "  </thead>\n",
       "  <tbody>\n",
       "    <tr>\n",
       "      <th>0</th>\n",
       "      <td>False</td>\n",
       "      <td>/kQM7o3NIkruIZLoQ9E2XzZQ8Ujl.jpg</td>\n",
       "      <td>[28, 35, 80]</td>\n",
       "      <td>783461</td>\n",
       "      <td>hi</td>\n",
       "      <td>लूप लपेटा</td>\n",
       "      <td>When her boyfriend loses a mobster's cash, Sav...</td>\n",
       "      <td>201.126</td>\n",
       "      <td>/onGdT8sYi89drvSJyEJnft97rOq.jpg</td>\n",
       "      <td>2022-02-04</td>\n",
       "      <td>Looop Lapeta</td>\n",
       "      <td>False</td>\n",
       "      <td>6.3</td>\n",
       "      <td>47</td>\n",
       "      <td>['remake', 'looop lapeta', 'saade saati']</td>\n",
       "      <td>['Action', 'Comedy', 'Crime']</td>\n",
       "      <td>['Taapsee Pannu', 'Tahir Raj Bhasin', 'Shreya ...</td>\n",
       "    </tr>\n",
       "    <tr>\n",
       "      <th>1</th>\n",
       "      <td>False</td>\n",
       "      <td>/7w06baRS9VPm5RYz8lawTCLiR4j.jpg</td>\n",
       "      <td>[28, 80, 53]</td>\n",
       "      <td>592508</td>\n",
       "      <td>hi</td>\n",
       "      <td>Sooryavanshi</td>\n",
       "      <td>A fearless, faithful albeit slightly forgetful...</td>\n",
       "      <td>118.910</td>\n",
       "      <td>/8p3mhjyLjHKtaAv8tFKfvEBtir0.jpg</td>\n",
       "      <td>2021-11-05</td>\n",
       "      <td>Sooryavanshi</td>\n",
       "      <td>False</td>\n",
       "      <td>5.8</td>\n",
       "      <td>115</td>\n",
       "      <td>['police', 'sequel', 'police officer', 'cop un...</td>\n",
       "      <td>['Action', 'Crime', 'Thriller']</td>\n",
       "      <td>['Akshay Kumar', 'Katrina Kaif', 'Ajay Devgn',...</td>\n",
       "    </tr>\n",
       "    <tr>\n",
       "      <th>2</th>\n",
       "      <td>False</td>\n",
       "      <td>/4r3iEz4CsRWm7KTrFrESrKkv7GU.jpg</td>\n",
       "      <td>[18, 35, 10749]</td>\n",
       "      <td>601635</td>\n",
       "      <td>hi</td>\n",
       "      <td>लाल सिंह चड्ढा</td>\n",
       "      <td>Events in India's history — from the Emergency...</td>\n",
       "      <td>60.696</td>\n",
       "      <td>/rS8fGGgs9panboG1ZVGS6CFzXJM.jpg</td>\n",
       "      <td>2022-08-11</td>\n",
       "      <td>Laal Singh Chaddha</td>\n",
       "      <td>False</td>\n",
       "      <td>6.0</td>\n",
       "      <td>1</td>\n",
       "      <td>['mentally disabled', 'based on novel or book'...</td>\n",
       "      <td>['Drama', 'Comedy', 'Romance']</td>\n",
       "      <td>['Aamir Khan', 'Kareena Kapoor Khan', 'Naga Ch...</td>\n",
       "    </tr>\n",
       "    <tr>\n",
       "      <th>3</th>\n",
       "      <td>False</td>\n",
       "      <td>/3X44M96PsggERutUGrYhHXuaHsl.jpg</td>\n",
       "      <td>[35, 18, 10751]</td>\n",
       "      <td>729700</td>\n",
       "      <td>hi</td>\n",
       "      <td>रक्षा बन्धन</td>\n",
       "      <td>A doting brother will only get married to his ...</td>\n",
       "      <td>29.388</td>\n",
       "      <td>/ykefXRqhM7HVnLWPtXWcWCcvBy6.jpg</td>\n",
       "      <td>2022-08-11</td>\n",
       "      <td>Raksha Bandhan</td>\n",
       "      <td>False</td>\n",
       "      <td>0.0</td>\n",
       "      <td>0</td>\n",
       "      <td>[]</td>\n",
       "      <td>['Comedy', 'Drama', 'Family']</td>\n",
       "      <td>['Akshay Kumar', 'Bhumi Pednekar', 'Sadia Khat...</td>\n",
       "    </tr>\n",
       "    <tr>\n",
       "      <th>4</th>\n",
       "      <td>False</td>\n",
       "      <td>/aFGPUmbgGoAt93WP3WYsAPa0Yv8.jpg</td>\n",
       "      <td>[18, 35]</td>\n",
       "      <td>20453</td>\n",
       "      <td>hi</td>\n",
       "      <td>3 Idiots</td>\n",
       "      <td>Rascal. Joker. Dreamer. Genius... You've never...</td>\n",
       "      <td>46.251</td>\n",
       "      <td>/66A9MqXOyVFCssoloscw79z8Tew.jpg</td>\n",
       "      <td>2009-12-23</td>\n",
       "      <td>3 Idiots</td>\n",
       "      <td>False</td>\n",
       "      <td>8.0</td>\n",
       "      <td>1874</td>\n",
       "      <td>['suicide', 'suicide attempt', 'college', 'mus...</td>\n",
       "      <td>['Drama', 'Comedy']</td>\n",
       "      <td>['Aamir Khan', 'Sharman Joshi', 'R. Madhavan',...</td>\n",
       "    </tr>\n",
       "  </tbody>\n",
       "</table>\n",
       "</div>"
      ],
      "text/plain": [
       "   adult                     backdrop_path        genre_ids      id  \\\n",
       "0  False  /kQM7o3NIkruIZLoQ9E2XzZQ8Ujl.jpg     [28, 35, 80]  783461   \n",
       "1  False  /7w06baRS9VPm5RYz8lawTCLiR4j.jpg     [28, 80, 53]  592508   \n",
       "2  False  /4r3iEz4CsRWm7KTrFrESrKkv7GU.jpg  [18, 35, 10749]  601635   \n",
       "3  False  /3X44M96PsggERutUGrYhHXuaHsl.jpg  [35, 18, 10751]  729700   \n",
       "4  False  /aFGPUmbgGoAt93WP3WYsAPa0Yv8.jpg         [18, 35]   20453   \n",
       "\n",
       "  original_language  original_title  \\\n",
       "0                hi       लूप लपेटा   \n",
       "1                hi    Sooryavanshi   \n",
       "2                hi  लाल सिंह चड्ढा   \n",
       "3                hi     रक्षा बन्धन   \n",
       "4                hi        3 Idiots   \n",
       "\n",
       "                                            overview  popularity  \\\n",
       "0  When her boyfriend loses a mobster's cash, Sav...     201.126   \n",
       "1  A fearless, faithful albeit slightly forgetful...     118.910   \n",
       "2  Events in India's history — from the Emergency...      60.696   \n",
       "3  A doting brother will only get married to his ...      29.388   \n",
       "4  Rascal. Joker. Dreamer. Genius... You've never...      46.251   \n",
       "\n",
       "                        poster_path release_date               title  video  \\\n",
       "0  /onGdT8sYi89drvSJyEJnft97rOq.jpg   2022-02-04        Looop Lapeta  False   \n",
       "1  /8p3mhjyLjHKtaAv8tFKfvEBtir0.jpg   2021-11-05        Sooryavanshi  False   \n",
       "2  /rS8fGGgs9panboG1ZVGS6CFzXJM.jpg   2022-08-11  Laal Singh Chaddha  False   \n",
       "3  /ykefXRqhM7HVnLWPtXWcWCcvBy6.jpg   2022-08-11      Raksha Bandhan  False   \n",
       "4  /66A9MqXOyVFCssoloscw79z8Tew.jpg   2009-12-23            3 Idiots  False   \n",
       "\n",
       "   vote_average  vote_count  \\\n",
       "0           6.3          47   \n",
       "1           5.8         115   \n",
       "2           6.0           1   \n",
       "3           0.0           0   \n",
       "4           8.0        1874   \n",
       "\n",
       "                                            KEYWORDS  \\\n",
       "0          ['remake', 'looop lapeta', 'saade saati']   \n",
       "1  ['police', 'sequel', 'police officer', 'cop un...   \n",
       "2  ['mentally disabled', 'based on novel or book'...   \n",
       "3                                                 []   \n",
       "4  ['suicide', 'suicide attempt', 'college', 'mus...   \n",
       "\n",
       "                            GENRES  \\\n",
       "0    ['Action', 'Comedy', 'Crime']   \n",
       "1  ['Action', 'Crime', 'Thriller']   \n",
       "2   ['Drama', 'Comedy', 'Romance']   \n",
       "3    ['Comedy', 'Drama', 'Family']   \n",
       "4              ['Drama', 'Comedy']   \n",
       "\n",
       "                                                CAST  \n",
       "0  ['Taapsee Pannu', 'Tahir Raj Bhasin', 'Shreya ...  \n",
       "1  ['Akshay Kumar', 'Katrina Kaif', 'Ajay Devgn',...  \n",
       "2  ['Aamir Khan', 'Kareena Kapoor Khan', 'Naga Ch...  \n",
       "3  ['Akshay Kumar', 'Bhumi Pednekar', 'Sadia Khat...  \n",
       "4  ['Aamir Khan', 'Sharman Joshi', 'R. Madhavan',...  "
      ]
     },
     "execution_count": 1016,
     "metadata": {},
     "output_type": "execute_result"
    }
   ],
   "source": [
    "df = pd.read_csv('./indian_movies_data.csv')\n",
    "df.head()"
   ]
  },
  {
   "cell_type": "markdown",
   "id": "78c5bd3a",
   "metadata": {},
   "source": [
    "c = df[df['vote_count'] < 1].index\n",
    "for i in c:\n",
    "    df = df.drop(i)"
   ]
  },
  {
   "cell_type": "code",
   "execution_count": 1017,
   "id": "2d1699fa",
   "metadata": {},
   "outputs": [],
   "source": [
    "df = df[df.release_date > '2010-01-01']"
   ]
  },
  {
   "cell_type": "code",
   "execution_count": 1018,
   "id": "0f23b854",
   "metadata": {},
   "outputs": [],
   "source": [
    "pid = [500063,427386,324344,837134,743202,527725,526133,1011874,546694,900111,942058,809489,428227,168445,877655,575558,215383,\n",
    "       515045,982159,432349,893160,826569,1005094,253713,837134,63467,705701,401971,74458,394034,117784,666131]\n",
    "for i in pid:\n",
    "    j = df[df['id']== i].index\n",
    "    df = df.drop(j)"
   ]
  },
  {
   "cell_type": "code",
   "execution_count": 1019,
   "id": "3b422589",
   "metadata": {},
   "outputs": [
    {
     "data": {
      "text/html": [
       "<div>\n",
       "<style scoped>\n",
       "    .dataframe tbody tr th:only-of-type {\n",
       "        vertical-align: middle;\n",
       "    }\n",
       "\n",
       "    .dataframe tbody tr th {\n",
       "        vertical-align: top;\n",
       "    }\n",
       "\n",
       "    .dataframe thead th {\n",
       "        text-align: right;\n",
       "    }\n",
       "</style>\n",
       "<table border=\"1\" class=\"dataframe\">\n",
       "  <thead>\n",
       "    <tr style=\"text-align: right;\">\n",
       "      <th></th>\n",
       "      <th>adult</th>\n",
       "      <th>backdrop_path</th>\n",
       "      <th>genre_ids</th>\n",
       "      <th>id</th>\n",
       "      <th>original_language</th>\n",
       "      <th>original_title</th>\n",
       "      <th>overview</th>\n",
       "      <th>popularity</th>\n",
       "      <th>poster_path</th>\n",
       "      <th>release_date</th>\n",
       "      <th>title</th>\n",
       "      <th>video</th>\n",
       "      <th>vote_average</th>\n",
       "      <th>vote_count</th>\n",
       "      <th>KEYWORDS</th>\n",
       "      <th>GENRES</th>\n",
       "      <th>CAST</th>\n",
       "    </tr>\n",
       "  </thead>\n",
       "  <tbody>\n",
       "  </tbody>\n",
       "</table>\n",
       "</div>"
      ],
      "text/plain": [
       "Empty DataFrame\n",
       "Columns: [adult, backdrop_path, genre_ids, id, original_language, original_title, overview, popularity, poster_path, release_date, title, video, vote_average, vote_count, KEYWORDS, GENRES, CAST]\n",
       "Index: []"
      ]
     },
     "execution_count": 1019,
     "metadata": {},
     "output_type": "execute_result"
    }
   ],
   "source": [
    "df[df['id']== 324344]"
   ]
  },
  {
   "cell_type": "code",
   "execution_count": 1020,
   "id": "21eef650",
   "metadata": {},
   "outputs": [
    {
     "data": {
      "text/plain": [
       "adult                  0\n",
       "backdrop_path        870\n",
       "genre_ids              0\n",
       "id                     0\n",
       "original_language      0\n",
       "original_title         0\n",
       "overview             106\n",
       "popularity             0\n",
       "poster_path          200\n",
       "release_date           0\n",
       "title                  0\n",
       "video                  0\n",
       "vote_average           0\n",
       "vote_count             0\n",
       "KEYWORDS               0\n",
       "GENRES                 0\n",
       "CAST                   0\n",
       "dtype: int64"
      ]
     },
     "execution_count": 1020,
     "metadata": {},
     "output_type": "execute_result"
    }
   ],
   "source": [
    "df.isnull().sum()"
   ]
  },
  {
   "cell_type": "code",
   "execution_count": 1021,
   "id": "711971ca",
   "metadata": {},
   "outputs": [],
   "source": [
    "df.drop(['backdrop_path','release_date'],axis=1,inplace=True)"
   ]
  },
  {
   "cell_type": "code",
   "execution_count": 1022,
   "id": "721c7f6d",
   "metadata": {},
   "outputs": [
    {
     "data": {
      "text/plain": [
       "adult                  0\n",
       "genre_ids              0\n",
       "id                     0\n",
       "original_language      0\n",
       "original_title         0\n",
       "overview             106\n",
       "popularity             0\n",
       "poster_path          200\n",
       "title                  0\n",
       "video                  0\n",
       "vote_average           0\n",
       "vote_count             0\n",
       "KEYWORDS               0\n",
       "GENRES                 0\n",
       "CAST                   0\n",
       "dtype: int64"
      ]
     },
     "execution_count": 1022,
     "metadata": {},
     "output_type": "execute_result"
    }
   ],
   "source": [
    "df.isnull().sum()"
   ]
  },
  {
   "cell_type": "code",
   "execution_count": 1023,
   "id": "a8316824",
   "metadata": {},
   "outputs": [],
   "source": [
    "df.dropna(inplace=True)"
   ]
  },
  {
   "cell_type": "code",
   "execution_count": 1024,
   "id": "c39e7043",
   "metadata": {},
   "outputs": [
    {
     "data": {
      "text/html": [
       "<div>\n",
       "<style scoped>\n",
       "    .dataframe tbody tr th:only-of-type {\n",
       "        vertical-align: middle;\n",
       "    }\n",
       "\n",
       "    .dataframe tbody tr th {\n",
       "        vertical-align: top;\n",
       "    }\n",
       "\n",
       "    .dataframe thead th {\n",
       "        text-align: right;\n",
       "    }\n",
       "</style>\n",
       "<table border=\"1\" class=\"dataframe\">\n",
       "  <thead>\n",
       "    <tr style=\"text-align: right;\">\n",
       "      <th></th>\n",
       "      <th>index</th>\n",
       "      <th>id</th>\n",
       "      <th>title</th>\n",
       "      <th>overview</th>\n",
       "      <th>GENRES</th>\n",
       "      <th>KEYWORDS</th>\n",
       "      <th>CAST</th>\n",
       "    </tr>\n",
       "  </thead>\n",
       "  <tbody>\n",
       "    <tr>\n",
       "      <th>0</th>\n",
       "      <td>0</td>\n",
       "      <td>783461</td>\n",
       "      <td>Looop Lapeta</td>\n",
       "      <td>When her boyfriend loses a mobster's cash, Sav...</td>\n",
       "      <td>['Action', 'Comedy', 'Crime']</td>\n",
       "      <td>['remake', 'looop lapeta', 'saade saati']</td>\n",
       "      <td>['Taapsee Pannu', 'Tahir Raj Bhasin', 'Shreya ...</td>\n",
       "    </tr>\n",
       "    <tr>\n",
       "      <th>1</th>\n",
       "      <td>1</td>\n",
       "      <td>592508</td>\n",
       "      <td>Sooryavanshi</td>\n",
       "      <td>A fearless, faithful albeit slightly forgetful...</td>\n",
       "      <td>['Action', 'Crime', 'Thriller']</td>\n",
       "      <td>['police', 'sequel', 'police officer', 'cop un...</td>\n",
       "      <td>['Akshay Kumar', 'Katrina Kaif', 'Ajay Devgn',...</td>\n",
       "    </tr>\n",
       "    <tr>\n",
       "      <th>2</th>\n",
       "      <td>2</td>\n",
       "      <td>601635</td>\n",
       "      <td>Laal Singh Chaddha</td>\n",
       "      <td>Events in India's history — from the Emergency...</td>\n",
       "      <td>['Drama', 'Comedy', 'Romance']</td>\n",
       "      <td>['mentally disabled', 'based on novel or book'...</td>\n",
       "      <td>['Aamir Khan', 'Kareena Kapoor Khan', 'Naga Ch...</td>\n",
       "    </tr>\n",
       "    <tr>\n",
       "      <th>3</th>\n",
       "      <td>3</td>\n",
       "      <td>729700</td>\n",
       "      <td>Raksha Bandhan</td>\n",
       "      <td>A doting brother will only get married to his ...</td>\n",
       "      <td>['Comedy', 'Drama', 'Family']</td>\n",
       "      <td>[]</td>\n",
       "      <td>['Akshay Kumar', 'Bhumi Pednekar', 'Sadia Khat...</td>\n",
       "    </tr>\n",
       "    <tr>\n",
       "      <th>4</th>\n",
       "      <td>5</td>\n",
       "      <td>767377</td>\n",
       "      <td>Dhamaka</td>\n",
       "      <td>When a cynical ex-TV news anchor gets an alarm...</td>\n",
       "      <td>['Thriller', 'Drama', 'Crime']</td>\n",
       "      <td>['remake']</td>\n",
       "      <td>['Kartik Aaryan', 'Amruta Subhash', 'Mrunal Th...</td>\n",
       "    </tr>\n",
       "    <tr>\n",
       "      <th>...</th>\n",
       "      <td>...</td>\n",
       "      <td>...</td>\n",
       "      <td>...</td>\n",
       "      <td>...</td>\n",
       "      <td>...</td>\n",
       "      <td>...</td>\n",
       "      <td>...</td>\n",
       "    </tr>\n",
       "    <tr>\n",
       "      <th>1882</th>\n",
       "      <td>5880</td>\n",
       "      <td>54098</td>\n",
       "      <td>Soch Lo</td>\n",
       "      <td>The film takes off from the point where a woun...</td>\n",
       "      <td>['Action', 'Mystery', 'Thriller']</td>\n",
       "      <td>[]</td>\n",
       "      <td>[]</td>\n",
       "    </tr>\n",
       "    <tr>\n",
       "      <th>1883</th>\n",
       "      <td>5881</td>\n",
       "      <td>52394</td>\n",
       "      <td>Rokkk</td>\n",
       "      <td>Anushka helps her sister fight a murder charge...</td>\n",
       "      <td>['Thriller', 'Horror', 'Mystery']</td>\n",
       "      <td>[]</td>\n",
       "      <td>['Tanushree Dutta', 'Sachin Khedekar', 'Udita ...</td>\n",
       "    </tr>\n",
       "    <tr>\n",
       "      <th>1884</th>\n",
       "      <td>5887</td>\n",
       "      <td>35214</td>\n",
       "      <td>Na Ghar Ke Na Ghaat Ke</td>\n",
       "      <td>The newly released 'Na Ghar Ke Na Ghat Ke' tel...</td>\n",
       "      <td>[]</td>\n",
       "      <td>[]</td>\n",
       "      <td>[]</td>\n",
       "    </tr>\n",
       "    <tr>\n",
       "      <th>1885</th>\n",
       "      <td>5889</td>\n",
       "      <td>33384</td>\n",
       "      <td>Road to Sangam</td>\n",
       "      <td>Hasmat, a devout Muslim, is asked to repair a ...</td>\n",
       "      <td>['Drama']</td>\n",
       "      <td>['mahatma gandhi', 'hindu muslim conflict']</td>\n",
       "      <td>['Paresh Rawal', 'Om Puri', 'Pavan Malhotra', ...</td>\n",
       "    </tr>\n",
       "    <tr>\n",
       "      <th>1886</th>\n",
       "      <td>5898</td>\n",
       "      <td>1012151</td>\n",
       "      <td>Miami Seh New York</td>\n",
       "      <td>About MIAMI SEH NEW YORK - A coming of age fil...</td>\n",
       "      <td>[]</td>\n",
       "      <td>[]</td>\n",
       "      <td>['Arjun Anand', 'Rohini Chandra', 'Nikhaar Kis...</td>\n",
       "    </tr>\n",
       "  </tbody>\n",
       "</table>\n",
       "<p>1887 rows × 7 columns</p>\n",
       "</div>"
      ],
      "text/plain": [
       "      index       id                   title  \\\n",
       "0         0   783461            Looop Lapeta   \n",
       "1         1   592508            Sooryavanshi   \n",
       "2         2   601635      Laal Singh Chaddha   \n",
       "3         3   729700          Raksha Bandhan   \n",
       "4         5   767377                 Dhamaka   \n",
       "...     ...      ...                     ...   \n",
       "1882   5880    54098                 Soch Lo   \n",
       "1883   5881    52394                   Rokkk   \n",
       "1884   5887    35214  Na Ghar Ke Na Ghaat Ke   \n",
       "1885   5889    33384          Road to Sangam   \n",
       "1886   5898  1012151      Miami Seh New York   \n",
       "\n",
       "                                               overview  \\\n",
       "0     When her boyfriend loses a mobster's cash, Sav...   \n",
       "1     A fearless, faithful albeit slightly forgetful...   \n",
       "2     Events in India's history — from the Emergency...   \n",
       "3     A doting brother will only get married to his ...   \n",
       "4     When a cynical ex-TV news anchor gets an alarm...   \n",
       "...                                                 ...   \n",
       "1882  The film takes off from the point where a woun...   \n",
       "1883  Anushka helps her sister fight a murder charge...   \n",
       "1884  The newly released 'Na Ghar Ke Na Ghat Ke' tel...   \n",
       "1885  Hasmat, a devout Muslim, is asked to repair a ...   \n",
       "1886  About MIAMI SEH NEW YORK - A coming of age fil...   \n",
       "\n",
       "                                 GENRES  \\\n",
       "0         ['Action', 'Comedy', 'Crime']   \n",
       "1       ['Action', 'Crime', 'Thriller']   \n",
       "2        ['Drama', 'Comedy', 'Romance']   \n",
       "3         ['Comedy', 'Drama', 'Family']   \n",
       "4        ['Thriller', 'Drama', 'Crime']   \n",
       "...                                 ...   \n",
       "1882  ['Action', 'Mystery', 'Thriller']   \n",
       "1883  ['Thriller', 'Horror', 'Mystery']   \n",
       "1884                                 []   \n",
       "1885                          ['Drama']   \n",
       "1886                                 []   \n",
       "\n",
       "                                               KEYWORDS  \\\n",
       "0             ['remake', 'looop lapeta', 'saade saati']   \n",
       "1     ['police', 'sequel', 'police officer', 'cop un...   \n",
       "2     ['mentally disabled', 'based on novel or book'...   \n",
       "3                                                    []   \n",
       "4                                            ['remake']   \n",
       "...                                                 ...   \n",
       "1882                                                 []   \n",
       "1883                                                 []   \n",
       "1884                                                 []   \n",
       "1885        ['mahatma gandhi', 'hindu muslim conflict']   \n",
       "1886                                                 []   \n",
       "\n",
       "                                                   CAST  \n",
       "0     ['Taapsee Pannu', 'Tahir Raj Bhasin', 'Shreya ...  \n",
       "1     ['Akshay Kumar', 'Katrina Kaif', 'Ajay Devgn',...  \n",
       "2     ['Aamir Khan', 'Kareena Kapoor Khan', 'Naga Ch...  \n",
       "3     ['Akshay Kumar', 'Bhumi Pednekar', 'Sadia Khat...  \n",
       "4     ['Kartik Aaryan', 'Amruta Subhash', 'Mrunal Th...  \n",
       "...                                                 ...  \n",
       "1882                                                 []  \n",
       "1883  ['Tanushree Dutta', 'Sachin Khedekar', 'Udita ...  \n",
       "1884                                                 []  \n",
       "1885  ['Paresh Rawal', 'Om Puri', 'Pavan Malhotra', ...  \n",
       "1886  ['Arjun Anand', 'Rohini Chandra', 'Nikhaar Kis...  \n",
       "\n",
       "[1887 rows x 7 columns]"
      ]
     },
     "execution_count": 1024,
     "metadata": {},
     "output_type": "execute_result"
    }
   ],
   "source": [
    "col = ['id','title','overview','GENRES','KEYWORDS','CAST']\n",
    "df = df[col]\n",
    "df = df.reset_index()\n",
    "df"
   ]
  },
  {
   "cell_type": "code",
   "execution_count": 994,
   "id": "5d8cddc7",
   "metadata": {},
   "outputs": [
    {
     "data": {
      "text/html": [
       "<div>\n",
       "<style scoped>\n",
       "    .dataframe tbody tr th:only-of-type {\n",
       "        vertical-align: middle;\n",
       "    }\n",
       "\n",
       "    .dataframe tbody tr th {\n",
       "        vertical-align: top;\n",
       "    }\n",
       "\n",
       "    .dataframe thead th {\n",
       "        text-align: right;\n",
       "    }\n",
       "</style>\n",
       "<table border=\"1\" class=\"dataframe\">\n",
       "  <thead>\n",
       "    <tr style=\"text-align: right;\">\n",
       "      <th></th>\n",
       "      <th>index</th>\n",
       "      <th>id</th>\n",
       "      <th>title</th>\n",
       "      <th>overview</th>\n",
       "      <th>GENRES</th>\n",
       "      <th>KEYWORDS</th>\n",
       "      <th>CAST</th>\n",
       "    </tr>\n",
       "  </thead>\n",
       "  <tbody>\n",
       "    <tr>\n",
       "      <th>0</th>\n",
       "      <td>0</td>\n",
       "      <td>783461</td>\n",
       "      <td>Looop Lapeta</td>\n",
       "      <td>When her boyfriend loses a mobster's cash, Sav...</td>\n",
       "      <td>['Action', 'Comedy', 'Crime']</td>\n",
       "      <td>['remake', 'looop lapeta', 'saade saati']</td>\n",
       "      <td>['Taapsee Pannu', 'Tahir Raj Bhasin', 'Shreya ...</td>\n",
       "    </tr>\n",
       "    <tr>\n",
       "      <th>1</th>\n",
       "      <td>1</td>\n",
       "      <td>592508</td>\n",
       "      <td>Sooryavanshi</td>\n",
       "      <td>A fearless, faithful albeit slightly forgetful...</td>\n",
       "      <td>['Action', 'Crime', 'Thriller']</td>\n",
       "      <td>['police', 'sequel', 'police officer', 'cop un...</td>\n",
       "      <td>['Akshay Kumar', 'Katrina Kaif', 'Ajay Devgn',...</td>\n",
       "    </tr>\n",
       "    <tr>\n",
       "      <th>2</th>\n",
       "      <td>2</td>\n",
       "      <td>601635</td>\n",
       "      <td>Laal Singh Chaddha</td>\n",
       "      <td>Events in India's history — from the Emergency...</td>\n",
       "      <td>['Drama', 'Comedy', 'Romance']</td>\n",
       "      <td>['mentally disabled', 'based on novel or book'...</td>\n",
       "      <td>['Aamir Khan', 'Kareena Kapoor Khan', 'Naga Ch...</td>\n",
       "    </tr>\n",
       "    <tr>\n",
       "      <th>3</th>\n",
       "      <td>5</td>\n",
       "      <td>767377</td>\n",
       "      <td>Dhamaka</td>\n",
       "      <td>When a cynical ex-TV news anchor gets an alarm...</td>\n",
       "      <td>['Thriller', 'Drama', 'Crime']</td>\n",
       "      <td>['remake']</td>\n",
       "      <td>['Kartik Aaryan', 'Amruta Subhash', 'Mrunal Th...</td>\n",
       "    </tr>\n",
       "    <tr>\n",
       "      <th>4</th>\n",
       "      <td>7</td>\n",
       "      <td>679018</td>\n",
       "      <td>Jersey</td>\n",
       "      <td>An ex-cricketer struggling to make ends meet, ...</td>\n",
       "      <td>['Drama']</td>\n",
       "      <td>['cricket', 'sports', 'remake', 'father son re...</td>\n",
       "      <td>['Shahid Kapoor', 'Mrunal Thakur', 'Pankaj Kap...</td>\n",
       "    </tr>\n",
       "    <tr>\n",
       "      <th>...</th>\n",
       "      <td>...</td>\n",
       "      <td>...</td>\n",
       "      <td>...</td>\n",
       "      <td>...</td>\n",
       "      <td>...</td>\n",
       "      <td>...</td>\n",
       "      <td>...</td>\n",
       "    </tr>\n",
       "    <tr>\n",
       "      <th>1346</th>\n",
       "      <td>5876</td>\n",
       "      <td>63241</td>\n",
       "      <td>Utt Pataang</td>\n",
       "      <td>Mumbai-based Ramvilas Sharma has just broken-u...</td>\n",
       "      <td>['Comedy', 'Romance']</td>\n",
       "      <td>[]</td>\n",
       "      <td>['Vinay Pathak', 'Mahie Gill', 'Saurabh Shukla...</td>\n",
       "    </tr>\n",
       "    <tr>\n",
       "      <th>1347</th>\n",
       "      <td>5880</td>\n",
       "      <td>54098</td>\n",
       "      <td>Soch Lo</td>\n",
       "      <td>The film takes off from the point where a woun...</td>\n",
       "      <td>['Action', 'Mystery', 'Thriller']</td>\n",
       "      <td>[]</td>\n",
       "      <td>[]</td>\n",
       "    </tr>\n",
       "    <tr>\n",
       "      <th>1348</th>\n",
       "      <td>5881</td>\n",
       "      <td>52394</td>\n",
       "      <td>Rokkk</td>\n",
       "      <td>Anushka helps her sister fight a murder charge...</td>\n",
       "      <td>['Thriller', 'Horror', 'Mystery']</td>\n",
       "      <td>[]</td>\n",
       "      <td>['Tanushree Dutta', 'Sachin Khedekar', 'Udita ...</td>\n",
       "    </tr>\n",
       "    <tr>\n",
       "      <th>1349</th>\n",
       "      <td>5887</td>\n",
       "      <td>35214</td>\n",
       "      <td>Na Ghar Ke Na Ghaat Ke</td>\n",
       "      <td>The newly released 'Na Ghar Ke Na Ghat Ke' tel...</td>\n",
       "      <td>[]</td>\n",
       "      <td>[]</td>\n",
       "      <td>[]</td>\n",
       "    </tr>\n",
       "    <tr>\n",
       "      <th>1350</th>\n",
       "      <td>5889</td>\n",
       "      <td>33384</td>\n",
       "      <td>Road to Sangam</td>\n",
       "      <td>Hasmat, a devout Muslim, is asked to repair a ...</td>\n",
       "      <td>['Drama']</td>\n",
       "      <td>['mahatma gandhi', 'hindu muslim conflict']</td>\n",
       "      <td>['Paresh Rawal', 'Om Puri', 'Pavan Malhotra', ...</td>\n",
       "    </tr>\n",
       "  </tbody>\n",
       "</table>\n",
       "<p>1351 rows × 7 columns</p>\n",
       "</div>"
      ],
      "text/plain": [
       "      index      id                   title  \\\n",
       "0         0  783461            Looop Lapeta   \n",
       "1         1  592508            Sooryavanshi   \n",
       "2         2  601635      Laal Singh Chaddha   \n",
       "3         5  767377                 Dhamaka   \n",
       "4         7  679018                  Jersey   \n",
       "...     ...     ...                     ...   \n",
       "1346   5876   63241             Utt Pataang   \n",
       "1347   5880   54098                 Soch Lo   \n",
       "1348   5881   52394                   Rokkk   \n",
       "1349   5887   35214  Na Ghar Ke Na Ghaat Ke   \n",
       "1350   5889   33384          Road to Sangam   \n",
       "\n",
       "                                               overview  \\\n",
       "0     When her boyfriend loses a mobster's cash, Sav...   \n",
       "1     A fearless, faithful albeit slightly forgetful...   \n",
       "2     Events in India's history — from the Emergency...   \n",
       "3     When a cynical ex-TV news anchor gets an alarm...   \n",
       "4     An ex-cricketer struggling to make ends meet, ...   \n",
       "...                                                 ...   \n",
       "1346  Mumbai-based Ramvilas Sharma has just broken-u...   \n",
       "1347  The film takes off from the point where a woun...   \n",
       "1348  Anushka helps her sister fight a murder charge...   \n",
       "1349  The newly released 'Na Ghar Ke Na Ghat Ke' tel...   \n",
       "1350  Hasmat, a devout Muslim, is asked to repair a ...   \n",
       "\n",
       "                                 GENRES  \\\n",
       "0         ['Action', 'Comedy', 'Crime']   \n",
       "1       ['Action', 'Crime', 'Thriller']   \n",
       "2        ['Drama', 'Comedy', 'Romance']   \n",
       "3        ['Thriller', 'Drama', 'Crime']   \n",
       "4                             ['Drama']   \n",
       "...                                 ...   \n",
       "1346              ['Comedy', 'Romance']   \n",
       "1347  ['Action', 'Mystery', 'Thriller']   \n",
       "1348  ['Thriller', 'Horror', 'Mystery']   \n",
       "1349                                 []   \n",
       "1350                          ['Drama']   \n",
       "\n",
       "                                               KEYWORDS  \\\n",
       "0             ['remake', 'looop lapeta', 'saade saati']   \n",
       "1     ['police', 'sequel', 'police officer', 'cop un...   \n",
       "2     ['mentally disabled', 'based on novel or book'...   \n",
       "3                                            ['remake']   \n",
       "4     ['cricket', 'sports', 'remake', 'father son re...   \n",
       "...                                                 ...   \n",
       "1346                                                 []   \n",
       "1347                                                 []   \n",
       "1348                                                 []   \n",
       "1349                                                 []   \n",
       "1350        ['mahatma gandhi', 'hindu muslim conflict']   \n",
       "\n",
       "                                                   CAST  \n",
       "0     ['Taapsee Pannu', 'Tahir Raj Bhasin', 'Shreya ...  \n",
       "1     ['Akshay Kumar', 'Katrina Kaif', 'Ajay Devgn',...  \n",
       "2     ['Aamir Khan', 'Kareena Kapoor Khan', 'Naga Ch...  \n",
       "3     ['Kartik Aaryan', 'Amruta Subhash', 'Mrunal Th...  \n",
       "4     ['Shahid Kapoor', 'Mrunal Thakur', 'Pankaj Kap...  \n",
       "...                                                 ...  \n",
       "1346  ['Vinay Pathak', 'Mahie Gill', 'Saurabh Shukla...  \n",
       "1347                                                 []  \n",
       "1348  ['Tanushree Dutta', 'Sachin Khedekar', 'Udita ...  \n",
       "1349                                                 []  \n",
       "1350  ['Paresh Rawal', 'Om Puri', 'Pavan Malhotra', ...  \n",
       "\n",
       "[1351 rows x 7 columns]"
      ]
     },
     "execution_count": 994,
     "metadata": {},
     "output_type": "execute_result"
    }
   ],
   "source": [
    "df.drop(['index'],axis=1)\n",
    "df"
   ]
  },
  {
   "cell_type": "code",
   "execution_count": 995,
   "id": "10a9d227",
   "metadata": {},
   "outputs": [
    {
     "data": {
      "text/plain": [
       "index       0\n",
       "id          0\n",
       "title       0\n",
       "overview    0\n",
       "GENRES      0\n",
       "KEYWORDS    0\n",
       "CAST        0\n",
       "dtype: int64"
      ]
     },
     "execution_count": 995,
     "metadata": {},
     "output_type": "execute_result"
    }
   ],
   "source": [
    "df.isnull().sum()"
   ]
  },
  {
   "cell_type": "code",
   "execution_count": 996,
   "id": "99931602",
   "metadata": {},
   "outputs": [],
   "source": [
    "df.dropna(inplace=True)"
   ]
  },
  {
   "cell_type": "code",
   "execution_count": 997,
   "id": "a6a898ff",
   "metadata": {},
   "outputs": [
    {
     "data": {
      "text/plain": [
       "0"
      ]
     },
     "execution_count": 997,
     "metadata": {},
     "output_type": "execute_result"
    }
   ],
   "source": [
    "df.duplicated().sum()"
   ]
  },
  {
   "cell_type": "code",
   "execution_count": 998,
   "id": "a4a001ae",
   "metadata": {},
   "outputs": [
    {
     "data": {
      "text/plain": [
       "0       ['Taapsee Pannu', 'Tahir Raj Bhasin', 'Shreya ...\n",
       "1       ['Akshay Kumar', 'Katrina Kaif', 'Ajay Devgn',...\n",
       "2       ['Aamir Khan', 'Kareena Kapoor Khan', 'Naga Ch...\n",
       "3       ['Kartik Aaryan', 'Amruta Subhash', 'Mrunal Th...\n",
       "4       ['Shahid Kapoor', 'Mrunal Thakur', 'Pankaj Kap...\n",
       "                              ...                        \n",
       "1346    ['Vinay Pathak', 'Mahie Gill', 'Saurabh Shukla...\n",
       "1347                                                   []\n",
       "1348    ['Tanushree Dutta', 'Sachin Khedekar', 'Udita ...\n",
       "1349                                                   []\n",
       "1350    ['Paresh Rawal', 'Om Puri', 'Pavan Malhotra', ...\n",
       "Name: CAST, Length: 1351, dtype: object"
      ]
     },
     "execution_count": 998,
     "metadata": {},
     "output_type": "execute_result"
    }
   ],
   "source": [
    "df['CAST']"
   ]
  },
  {
   "cell_type": "code",
   "execution_count": 999,
   "id": "69f39c3d",
   "metadata": {},
   "outputs": [],
   "source": [
    "df['overview'] = df['overview'].apply(lambda x:x.split())"
   ]
  },
  {
   "cell_type": "code",
   "execution_count": 1000,
   "id": "70e58273",
   "metadata": {},
   "outputs": [
    {
     "data": {
      "text/plain": [
       "0       [When, her, boyfriend, loses, a, mobster's, ca...\n",
       "1       [A, fearless,, faithful, albeit, slightly, for...\n",
       "2       [Events, in, India's, history, —, from, the, E...\n",
       "3       [When, a, cynical, ex-TV, news, anchor, gets, ...\n",
       "4       [An, ex-cricketer, struggling, to, make, ends,...\n",
       "                              ...                        \n",
       "1346    [Mumbai-based, Ramvilas, Sharma, has, just, br...\n",
       "1347    [The, film, takes, off, from, the, point, wher...\n",
       "1348    [Anushka, helps, her, sister, fight, a, murder...\n",
       "1349    [The, newly, released, 'Na, Ghar, Ke, Na, Ghat...\n",
       "1350    [Hasmat,, a, devout, Muslim,, is, asked, to, r...\n",
       "Name: overview, Length: 1351, dtype: object"
      ]
     },
     "execution_count": 1000,
     "metadata": {},
     "output_type": "execute_result"
    }
   ],
   "source": [
    "df['overview']"
   ]
  },
  {
   "cell_type": "code",
   "execution_count": 1001,
   "id": "c89ddef2",
   "metadata": {},
   "outputs": [],
   "source": [
    "def converter(obj):\n",
    "    l = []\n",
    "    for i in ast.literal_eval(obj):\n",
    "        l.append(i)\n",
    "    return l"
   ]
  },
  {
   "cell_type": "code",
   "execution_count": 1002,
   "id": "f70b122f",
   "metadata": {},
   "outputs": [],
   "source": [
    "df['GENRES'] = df['GENRES'].apply(converter)"
   ]
  },
  {
   "cell_type": "code",
   "execution_count": 1003,
   "id": "0b28959e",
   "metadata": {},
   "outputs": [
    {
     "data": {
      "text/plain": [
       "0           [Action, Comedy, Crime]\n",
       "1         [Action, Crime, Thriller]\n",
       "2          [Drama, Comedy, Romance]\n",
       "3          [Thriller, Drama, Crime]\n",
       "4                           [Drama]\n",
       "                   ...             \n",
       "1346              [Comedy, Romance]\n",
       "1347    [Action, Mystery, Thriller]\n",
       "1348    [Thriller, Horror, Mystery]\n",
       "1349                             []\n",
       "1350                        [Drama]\n",
       "Name: GENRES, Length: 1351, dtype: object"
      ]
     },
     "execution_count": 1003,
     "metadata": {},
     "output_type": "execute_result"
    }
   ],
   "source": [
    "df['GENRES']"
   ]
  },
  {
   "cell_type": "code",
   "execution_count": 1004,
   "id": "c7b1afe7",
   "metadata": {},
   "outputs": [],
   "source": [
    "df['CAST'] = df['CAST'].apply(converter)"
   ]
  },
  {
   "cell_type": "code",
   "execution_count": 1005,
   "id": "6c91323d",
   "metadata": {},
   "outputs": [
    {
     "data": {
      "text/plain": [
       "0       [Taapsee Pannu, Tahir Raj Bhasin, Shreya Dhanw...\n",
       "1       [Akshay Kumar, Katrina Kaif, Ajay Devgn, Ranve...\n",
       "2       [Aamir Khan, Kareena Kapoor Khan, Naga Chaitan...\n",
       "3       [Kartik Aaryan, Amruta Subhash, Mrunal Thakur,...\n",
       "4       [Shahid Kapoor, Mrunal Thakur, Pankaj Kapur, R...\n",
       "                              ...                        \n",
       "1346    [Vinay Pathak, Mahie Gill, Saurabh Shukla, Mon...\n",
       "1347                                                   []\n",
       "1348    [Tanushree Dutta, Sachin Khedekar, Udita Goswa...\n",
       "1349                                                   []\n",
       "1350    [Paresh Rawal, Om Puri, Pavan Malhotra, Javed ...\n",
       "Name: CAST, Length: 1351, dtype: object"
      ]
     },
     "execution_count": 1005,
     "metadata": {},
     "output_type": "execute_result"
    }
   ],
   "source": [
    "df['CAST']"
   ]
  },
  {
   "cell_type": "code",
   "execution_count": 1006,
   "id": "4a38b48e",
   "metadata": {},
   "outputs": [],
   "source": [
    "df['KEYWORDS'] = df['KEYWORDS'].apply(converter)"
   ]
  },
  {
   "cell_type": "code",
   "execution_count": 1007,
   "id": "f95da618",
   "metadata": {},
   "outputs": [
    {
     "data": {
      "text/plain": [
       "0                     [remake, looop lapeta, saade saati]\n",
       "1          [police, sequel, police officer, cop universe]\n",
       "2       [mentally disabled, based on novel or book, re...\n",
       "3                                                [remake]\n",
       "4       [cricket, sports, remake, father son relations...\n",
       "                              ...                        \n",
       "1346                                                   []\n",
       "1347                                                   []\n",
       "1348                                                   []\n",
       "1349                                                   []\n",
       "1350              [mahatma gandhi, hindu muslim conflict]\n",
       "Name: KEYWORDS, Length: 1351, dtype: object"
      ]
     },
     "execution_count": 1007,
     "metadata": {},
     "output_type": "execute_result"
    }
   ],
   "source": [
    "df['KEYWORDS']"
   ]
  },
  {
   "cell_type": "code",
   "execution_count": 1008,
   "id": "25a52a63",
   "metadata": {},
   "outputs": [],
   "source": [
    "df['GENRES'] = df['GENRES'].apply(lambda x:[i.replace(\" \",\"\") for i in x])"
   ]
  },
  {
   "cell_type": "code",
   "execution_count": 1009,
   "id": "4496b696",
   "metadata": {},
   "outputs": [
    {
     "data": {
      "text/plain": [
       "0           [Action, Comedy, Crime]\n",
       "1         [Action, Crime, Thriller]\n",
       "2          [Drama, Comedy, Romance]\n",
       "3          [Thriller, Drama, Crime]\n",
       "4                           [Drama]\n",
       "                   ...             \n",
       "1346              [Comedy, Romance]\n",
       "1347    [Action, Mystery, Thriller]\n",
       "1348    [Thriller, Horror, Mystery]\n",
       "1349                             []\n",
       "1350                        [Drama]\n",
       "Name: GENRES, Length: 1351, dtype: object"
      ]
     },
     "execution_count": 1009,
     "metadata": {},
     "output_type": "execute_result"
    }
   ],
   "source": [
    "df['GENRES']"
   ]
  },
  {
   "cell_type": "code",
   "execution_count": 1010,
   "id": "6c863cd5",
   "metadata": {},
   "outputs": [],
   "source": [
    "df['CAST'] = df['CAST'].apply(lambda x:[i.replace(\" \",\"\") for i in x])"
   ]
  },
  {
   "cell_type": "code",
   "execution_count": 1011,
   "id": "aa9e1a4f",
   "metadata": {},
   "outputs": [],
   "source": [
    "df['KEYWORDS'] = df['KEYWORDS'].apply(lambda x:[i.replace(\" \",\"\") for i in x])"
   ]
  },
  {
   "cell_type": "code",
   "execution_count": 1012,
   "id": "e7dfe894",
   "metadata": {},
   "outputs": [],
   "source": [
    "df['tags'] =  df['CAST']  + df['GENRES'] + df['KEYWORDS'] + df['overview'] "
   ]
  },
  {
   "cell_type": "code",
   "execution_count": 1013,
   "id": "ec0a8c8e",
   "metadata": {},
   "outputs": [],
   "source": [
    "new_df = df[['id','title','tags']]"
   ]
  },
  {
   "cell_type": "code",
   "execution_count": 1014,
   "id": "2f9ea3e1",
   "metadata": {},
   "outputs": [
    {
     "data": {
      "text/html": [
       "<div>\n",
       "<style scoped>\n",
       "    .dataframe tbody tr th:only-of-type {\n",
       "        vertical-align: middle;\n",
       "    }\n",
       "\n",
       "    .dataframe tbody tr th {\n",
       "        vertical-align: top;\n",
       "    }\n",
       "\n",
       "    .dataframe thead th {\n",
       "        text-align: right;\n",
       "    }\n",
       "</style>\n",
       "<table border=\"1\" class=\"dataframe\">\n",
       "  <thead>\n",
       "    <tr style=\"text-align: right;\">\n",
       "      <th></th>\n",
       "      <th>id</th>\n",
       "      <th>title</th>\n",
       "      <th>tags</th>\n",
       "    </tr>\n",
       "  </thead>\n",
       "  <tbody>\n",
       "    <tr>\n",
       "      <th>0</th>\n",
       "      <td>783461</td>\n",
       "      <td>Looop Lapeta</td>\n",
       "      <td>[TaapseePannu, TahirRajBhasin, ShreyaDhanwanth...</td>\n",
       "    </tr>\n",
       "    <tr>\n",
       "      <th>1</th>\n",
       "      <td>592508</td>\n",
       "      <td>Sooryavanshi</td>\n",
       "      <td>[AkshayKumar, KatrinaKaif, AjayDevgn, RanveerS...</td>\n",
       "    </tr>\n",
       "    <tr>\n",
       "      <th>2</th>\n",
       "      <td>601635</td>\n",
       "      <td>Laal Singh Chaddha</td>\n",
       "      <td>[AamirKhan, KareenaKapoorKhan, NagaChaitanyaAk...</td>\n",
       "    </tr>\n",
       "    <tr>\n",
       "      <th>3</th>\n",
       "      <td>767377</td>\n",
       "      <td>Dhamaka</td>\n",
       "      <td>[KartikAaryan, AmrutaSubhash, MrunalThakur, So...</td>\n",
       "    </tr>\n",
       "    <tr>\n",
       "      <th>4</th>\n",
       "      <td>679018</td>\n",
       "      <td>Jersey</td>\n",
       "      <td>[ShahidKapoor, MrunalThakur, PankajKapur, Roni...</td>\n",
       "    </tr>\n",
       "    <tr>\n",
       "      <th>...</th>\n",
       "      <td>...</td>\n",
       "      <td>...</td>\n",
       "      <td>...</td>\n",
       "    </tr>\n",
       "    <tr>\n",
       "      <th>1346</th>\n",
       "      <td>63241</td>\n",
       "      <td>Utt Pataang</td>\n",
       "      <td>[VinayPathak, MahieGill, SaurabhShukla, MonaSi...</td>\n",
       "    </tr>\n",
       "    <tr>\n",
       "      <th>1347</th>\n",
       "      <td>54098</td>\n",
       "      <td>Soch Lo</td>\n",
       "      <td>[Action, Mystery, Thriller, The, film, takes, ...</td>\n",
       "    </tr>\n",
       "    <tr>\n",
       "      <th>1348</th>\n",
       "      <td>52394</td>\n",
       "      <td>Rokkk</td>\n",
       "      <td>[TanushreeDutta, SachinKhedekar, UditaGoswami,...</td>\n",
       "    </tr>\n",
       "    <tr>\n",
       "      <th>1349</th>\n",
       "      <td>35214</td>\n",
       "      <td>Na Ghar Ke Na Ghaat Ke</td>\n",
       "      <td>[The, newly, released, 'Na, Ghar, Ke, Na, Ghat...</td>\n",
       "    </tr>\n",
       "    <tr>\n",
       "      <th>1350</th>\n",
       "      <td>33384</td>\n",
       "      <td>Road to Sangam</td>\n",
       "      <td>[PareshRawal, OmPuri, PavanMalhotra, JavedShei...</td>\n",
       "    </tr>\n",
       "  </tbody>\n",
       "</table>\n",
       "<p>1351 rows × 3 columns</p>\n",
       "</div>"
      ],
      "text/plain": [
       "          id                   title  \\\n",
       "0     783461            Looop Lapeta   \n",
       "1     592508            Sooryavanshi   \n",
       "2     601635      Laal Singh Chaddha   \n",
       "3     767377                 Dhamaka   \n",
       "4     679018                  Jersey   \n",
       "...      ...                     ...   \n",
       "1346   63241             Utt Pataang   \n",
       "1347   54098                 Soch Lo   \n",
       "1348   52394                   Rokkk   \n",
       "1349   35214  Na Ghar Ke Na Ghaat Ke   \n",
       "1350   33384          Road to Sangam   \n",
       "\n",
       "                                                   tags  \n",
       "0     [TaapseePannu, TahirRajBhasin, ShreyaDhanwanth...  \n",
       "1     [AkshayKumar, KatrinaKaif, AjayDevgn, RanveerS...  \n",
       "2     [AamirKhan, KareenaKapoorKhan, NagaChaitanyaAk...  \n",
       "3     [KartikAaryan, AmrutaSubhash, MrunalThakur, So...  \n",
       "4     [ShahidKapoor, MrunalThakur, PankajKapur, Roni...  \n",
       "...                                                 ...  \n",
       "1346  [VinayPathak, MahieGill, SaurabhShukla, MonaSi...  \n",
       "1347  [Action, Mystery, Thriller, The, film, takes, ...  \n",
       "1348  [TanushreeDutta, SachinKhedekar, UditaGoswami,...  \n",
       "1349  [The, newly, released, 'Na, Ghar, Ke, Na, Ghat...  \n",
       "1350  [PareshRawal, OmPuri, PavanMalhotra, JavedShei...  \n",
       "\n",
       "[1351 rows x 3 columns]"
      ]
     },
     "execution_count": 1014,
     "metadata": {},
     "output_type": "execute_result"
    }
   ],
   "source": [
    "new_df"
   ]
  },
  {
   "cell_type": "code",
   "execution_count": 960,
   "id": "76f1991e",
   "metadata": {},
   "outputs": [
    {
     "name": "stderr",
     "output_type": "stream",
     "text": [
      "C:\\Users\\dhana\\AppData\\Local\\Temp\\ipykernel_17284\\3089450492.py:1: SettingWithCopyWarning: \n",
      "A value is trying to be set on a copy of a slice from a DataFrame.\n",
      "Try using .loc[row_indexer,col_indexer] = value instead\n",
      "\n",
      "See the caveats in the documentation: https://pandas.pydata.org/pandas-docs/stable/user_guide/indexing.html#returning-a-view-versus-a-copy\n",
      "  new_df['tags'] = new_df['tags'].apply(lambda x:\" \".join(x))\n"
     ]
    }
   ],
   "source": [
    "new_df['tags'] = new_df['tags'].apply(lambda x:\" \".join(x))"
   ]
  },
  {
   "cell_type": "code",
   "execution_count": 961,
   "id": "69fbe95e",
   "metadata": {},
   "outputs": [
    {
     "data": {
      "text/plain": [
       "\"TaapseePannu TahirRajBhasin ShreyaDhanwanthary DibyenduBhattacharya RajendraChawla K.C.Shankar SureshTriveni ManikPapneja RaghavRajKakker SameerKevinRoy BhupeshBandekar AlistarBennis VarunPande BabajaanDevaraya GuiaBianchi PriyaParamitaPaul Action Comedy Crime remake loooplapeta saadesaati When her boyfriend loses a mobster's cash, Savi races against the clock to save the day — if only she can break out of a curious cycle of dead ends.\""
      ]
     },
     "execution_count": 961,
     "metadata": {},
     "output_type": "execute_result"
    }
   ],
   "source": [
    "new_df['tags'][0]"
   ]
  },
  {
   "cell_type": "code",
   "execution_count": 962,
   "id": "83cf89a2",
   "metadata": {},
   "outputs": [
    {
     "name": "stderr",
     "output_type": "stream",
     "text": [
      "C:\\Users\\dhana\\AppData\\Local\\Temp\\ipykernel_17284\\3214958533.py:1: SettingWithCopyWarning: \n",
      "A value is trying to be set on a copy of a slice from a DataFrame.\n",
      "Try using .loc[row_indexer,col_indexer] = value instead\n",
      "\n",
      "See the caveats in the documentation: https://pandas.pydata.org/pandas-docs/stable/user_guide/indexing.html#returning-a-view-versus-a-copy\n",
      "  new_df['tags'] = new_df['tags'].apply(lambda x:x.lower())\n"
     ]
    }
   ],
   "source": [
    "new_df['tags'] = new_df['tags'].apply(lambda x:x.lower())"
   ]
  },
  {
   "cell_type": "code",
   "execution_count": 963,
   "id": "659aeb5b",
   "metadata": {},
   "outputs": [],
   "source": [
    "import nltk\n",
    "from nltk.stem.porter import PorterStemmer\n",
    "from nltk.stem import WordNetLemmatizer\n",
    "ps = PorterStemmer()\n",
    "lemmatizer = WordNetLemmatizer()\n",
    "\n",
    "\n",
    "def stem(text):\n",
    "    y = []\n",
    "    for i in text.split():\n",
    "        y.append(lemmatizer.lemmatize(i))\n",
    "        \n",
    "    return \" \".join(y)"
   ]
  },
  {
   "cell_type": "code",
   "execution_count": 964,
   "id": "48b601e3",
   "metadata": {},
   "outputs": [
    {
     "name": "stderr",
     "output_type": "stream",
     "text": [
      "C:\\Users\\dhana\\AppData\\Local\\Temp\\ipykernel_17284\\3213734980.py:1: SettingWithCopyWarning: \n",
      "A value is trying to be set on a copy of a slice from a DataFrame.\n",
      "Try using .loc[row_indexer,col_indexer] = value instead\n",
      "\n",
      "See the caveats in the documentation: https://pandas.pydata.org/pandas-docs/stable/user_guide/indexing.html#returning-a-view-versus-a-copy\n",
      "  new_df['tags'] = new_df['tags'].apply(stem)\n"
     ]
    }
   ],
   "source": [
    "new_df['tags'] = new_df['tags'].apply(stem)"
   ]
  },
  {
   "cell_type": "code",
   "execution_count": 965,
   "id": "b2aca82c",
   "metadata": {},
   "outputs": [
    {
     "data": {
      "text/plain": [
       "(1887, 5000)"
      ]
     },
     "execution_count": 965,
     "metadata": {},
     "output_type": "execute_result"
    }
   ],
   "source": [
    "from sklearn.feature_extraction.text import CountVectorizer\n",
    "cv = CountVectorizer(max_features=5000,stop_words='english')\n",
    "vector = cv.fit_transform(new_df['tags']).toarray()\n",
    "vector.shape"
   ]
  },
  {
   "cell_type": "code",
   "execution_count": 966,
   "id": "8cd21ad2",
   "metadata": {},
   "outputs": [
    {
     "data": {
      "text/plain": [
       "array([[1.        , 0.06819943, 0.06324555, ..., 0.        , 0.        ,\n",
       "        0.        ],\n",
       "       [0.06819943, 1.        , 0.04313311, ..., 0.03112864, 0.        ,\n",
       "        0.        ],\n",
       "       [0.06324555, 0.04313311, 1.        , ..., 0.        , 0.03244428,\n",
       "        0.        ],\n",
       "       ...,\n",
       "       [0.        , 0.03112864, 0.        , ..., 1.        , 0.        ,\n",
       "        0.04003204],\n",
       "       [0.        , 0.        , 0.03244428, ..., 0.        , 1.        ,\n",
       "        0.        ],\n",
       "       [0.        , 0.        , 0.        , ..., 0.04003204, 0.        ,\n",
       "        1.        ]])"
      ]
     },
     "execution_count": 966,
     "metadata": {},
     "output_type": "execute_result"
    }
   ],
   "source": [
    "from sklearn.metrics.pairwise import cosine_similarity\n",
    "similarity = cosine_similarity(vector)\n",
    "similarity"
   ]
  },
  {
   "cell_type": "code",
   "execution_count": 967,
   "id": "a643c272",
   "metadata": {},
   "outputs": [],
   "source": [
    "def recommend(movie):\n",
    "    index = new_df[new_df['title'] == movie].index[0]\n",
    "    distances = sorted(list(enumerate(similarity[index])),reverse=True,key = lambda x: x[1])\n",
    "    for i in distances[1:6]:\n",
    "        print(new_df.iloc[i[0]].title)"
   ]
  },
  {
   "cell_type": "code",
   "execution_count": 968,
   "id": "60488149",
   "metadata": {},
   "outputs": [
    {
     "data": {
      "text/html": [
       "<div>\n",
       "<style scoped>\n",
       "    .dataframe tbody tr th:only-of-type {\n",
       "        vertical-align: middle;\n",
       "    }\n",
       "\n",
       "    .dataframe tbody tr th {\n",
       "        vertical-align: top;\n",
       "    }\n",
       "\n",
       "    .dataframe thead th {\n",
       "        text-align: right;\n",
       "    }\n",
       "</style>\n",
       "<table border=\"1\" class=\"dataframe\">\n",
       "  <thead>\n",
       "    <tr style=\"text-align: right;\">\n",
       "      <th></th>\n",
       "      <th>id</th>\n",
       "      <th>title</th>\n",
       "      <th>tags</th>\n",
       "    </tr>\n",
       "  </thead>\n",
       "  <tbody>\n",
       "    <tr>\n",
       "      <th>0</th>\n",
       "      <td>783461</td>\n",
       "      <td>Looop Lapeta</td>\n",
       "      <td>taapseepannu tahirrajbhasin shreyadhanwanthary...</td>\n",
       "    </tr>\n",
       "    <tr>\n",
       "      <th>1</th>\n",
       "      <td>592508</td>\n",
       "      <td>Sooryavanshi</td>\n",
       "      <td>akshaykumar katrinakaif ajaydevgn ranveersingh...</td>\n",
       "    </tr>\n",
       "    <tr>\n",
       "      <th>2</th>\n",
       "      <td>601635</td>\n",
       "      <td>Laal Singh Chaddha</td>\n",
       "      <td>aamirkhan kareenakapoorkhan nagachaitanyaakkin...</td>\n",
       "    </tr>\n",
       "    <tr>\n",
       "      <th>3</th>\n",
       "      <td>729700</td>\n",
       "      <td>Raksha Bandhan</td>\n",
       "      <td>akshaykumar bhumipednekar sadiakhateeb sahejme...</td>\n",
       "    </tr>\n",
       "    <tr>\n",
       "      <th>4</th>\n",
       "      <td>767377</td>\n",
       "      <td>Dhamaka</td>\n",
       "      <td>kartikaaryan amrutasubhash mrunalthakur sohamm...</td>\n",
       "    </tr>\n",
       "    <tr>\n",
       "      <th>...</th>\n",
       "      <td>...</td>\n",
       "      <td>...</td>\n",
       "      <td>...</td>\n",
       "    </tr>\n",
       "    <tr>\n",
       "      <th>1882</th>\n",
       "      <td>54098</td>\n",
       "      <td>Soch Lo</td>\n",
       "      <td>action mystery thriller the film take off from...</td>\n",
       "    </tr>\n",
       "    <tr>\n",
       "      <th>1883</th>\n",
       "      <td>52394</td>\n",
       "      <td>Rokkk</td>\n",
       "      <td>tanushreedutta sachinkhedekar uditagoswami nis...</td>\n",
       "    </tr>\n",
       "    <tr>\n",
       "      <th>1884</th>\n",
       "      <td>35214</td>\n",
       "      <td>Na Ghar Ke Na Ghaat Ke</td>\n",
       "      <td>the newly released 'na ghar ke na ghat ke' tel...</td>\n",
       "    </tr>\n",
       "    <tr>\n",
       "      <th>1885</th>\n",
       "      <td>33384</td>\n",
       "      <td>Road to Sangam</td>\n",
       "      <td>pareshrawal ompuri pavanmalhotra javedsheikh m...</td>\n",
       "    </tr>\n",
       "    <tr>\n",
       "      <th>1886</th>\n",
       "      <td>1012151</td>\n",
       "      <td>Miami Seh New York</td>\n",
       "      <td>arjunanand rohinichandra nikhaarkishnani janel...</td>\n",
       "    </tr>\n",
       "  </tbody>\n",
       "</table>\n",
       "<p>1887 rows × 3 columns</p>\n",
       "</div>"
      ],
      "text/plain": [
       "           id                   title  \\\n",
       "0      783461            Looop Lapeta   \n",
       "1      592508            Sooryavanshi   \n",
       "2      601635      Laal Singh Chaddha   \n",
       "3      729700          Raksha Bandhan   \n",
       "4      767377                 Dhamaka   \n",
       "...       ...                     ...   \n",
       "1882    54098                 Soch Lo   \n",
       "1883    52394                   Rokkk   \n",
       "1884    35214  Na Ghar Ke Na Ghaat Ke   \n",
       "1885    33384          Road to Sangam   \n",
       "1886  1012151      Miami Seh New York   \n",
       "\n",
       "                                                   tags  \n",
       "0     taapseepannu tahirrajbhasin shreyadhanwanthary...  \n",
       "1     akshaykumar katrinakaif ajaydevgn ranveersingh...  \n",
       "2     aamirkhan kareenakapoorkhan nagachaitanyaakkin...  \n",
       "3     akshaykumar bhumipednekar sadiakhateeb sahejme...  \n",
       "4     kartikaaryan amrutasubhash mrunalthakur sohamm...  \n",
       "...                                                 ...  \n",
       "1882  action mystery thriller the film take off from...  \n",
       "1883  tanushreedutta sachinkhedekar uditagoswami nis...  \n",
       "1884  the newly released 'na ghar ke na ghat ke' tel...  \n",
       "1885  pareshrawal ompuri pavanmalhotra javedsheikh m...  \n",
       "1886  arjunanand rohinichandra nikhaarkishnani janel...  \n",
       "\n",
       "[1887 rows x 3 columns]"
      ]
     },
     "execution_count": 968,
     "metadata": {},
     "output_type": "execute_result"
    }
   ],
   "source": [
    "new_df"
   ]
  },
  {
   "cell_type": "code",
   "execution_count": 969,
   "id": "3f8291e3",
   "metadata": {},
   "outputs": [
    {
     "data": {
      "text/html": [
       "<div>\n",
       "<style scoped>\n",
       "    .dataframe tbody tr th:only-of-type {\n",
       "        vertical-align: middle;\n",
       "    }\n",
       "\n",
       "    .dataframe tbody tr th {\n",
       "        vertical-align: top;\n",
       "    }\n",
       "\n",
       "    .dataframe thead th {\n",
       "        text-align: right;\n",
       "    }\n",
       "</style>\n",
       "<table border=\"1\" class=\"dataframe\">\n",
       "  <thead>\n",
       "    <tr style=\"text-align: right;\">\n",
       "      <th></th>\n",
       "      <th>id</th>\n",
       "      <th>title</th>\n",
       "      <th>tags</th>\n",
       "    </tr>\n",
       "  </thead>\n",
       "  <tbody>\n",
       "  </tbody>\n",
       "</table>\n",
       "</div>"
      ],
      "text/plain": [
       "Empty DataFrame\n",
       "Columns: [id, title, tags]\n",
       "Index: []"
      ]
     },
     "execution_count": 969,
     "metadata": {},
     "output_type": "execute_result"
    }
   ],
   "source": [
    "new_df[new_df['title' ]== 'Kal Ho Naa Ho']"
   ]
  },
  {
   "cell_type": "code",
   "execution_count": 970,
   "id": "331eb85c",
   "metadata": {
    "scrolled": true
   },
   "outputs": [],
   "source": [
    "#recommend('Kal Ho Naa Ho')"
   ]
  },
  {
   "cell_type": "code",
   "execution_count": 971,
   "id": "eb52d09c",
   "metadata": {},
   "outputs": [],
   "source": [
    "api_key='8265bd1679663a7ea12ac168da84d2e8'\n",
    "import requests\n",
    "import datetime\n",
    "import time\n",
    "import pandas as pd\n",
    "from tmdbv3api import TMDb\n",
    "from tmdbv3api import Movie\n",
    "tmdb=TMDb()\n",
    "movie = Movie()\n",
    "TMDb.api_key= api_key\n",
    "tmdb.language = 'en'\n",
    "tmdb.debug = True"
   ]
  },
  {
   "cell_type": "code",
   "execution_count": 972,
   "id": "a9273ff1",
   "metadata": {},
   "outputs": [
    {
     "name": "stdout",
     "output_type": "stream",
     "text": [
      "Main Hoon Na\n",
      "Kabhi Khushi Kabhie Gham\n",
      "Kuch Kuch Hota Hai\n",
      "Dil To Pagal Hai\n",
      "Mohabbatein\n"
     ]
    }
   ],
   "source": [
    "mr = movie.recommendations(4254)\n",
    "for i in range(5):\n",
    "    print(mr[i]['title'])"
   ]
  },
  {
   "cell_type": "code",
   "execution_count": 973,
   "id": "b67c36ea",
   "metadata": {},
   "outputs": [],
   "source": [
    "import pickle"
   ]
  },
  {
   "cell_type": "code",
   "execution_count": 974,
   "id": "8853ef3d",
   "metadata": {},
   "outputs": [],
   "source": [
    "pickle.dump(new_df,open('movie_list_indian.pkl','wb'))\n",
    "pickle.dump(similarity,open('similarity_indian.pkl','wb'))"
   ]
  },
  {
   "cell_type": "code",
   "execution_count": 975,
   "id": "10651620",
   "metadata": {},
   "outputs": [
    {
     "data": {
      "text/html": [
       "<div>\n",
       "<style scoped>\n",
       "    .dataframe tbody tr th:only-of-type {\n",
       "        vertical-align: middle;\n",
       "    }\n",
       "\n",
       "    .dataframe tbody tr th {\n",
       "        vertical-align: top;\n",
       "    }\n",
       "\n",
       "    .dataframe thead th {\n",
       "        text-align: right;\n",
       "    }\n",
       "</style>\n",
       "<table border=\"1\" class=\"dataframe\">\n",
       "  <thead>\n",
       "    <tr style=\"text-align: right;\">\n",
       "      <th></th>\n",
       "      <th>id</th>\n",
       "      <th>title</th>\n",
       "      <th>tags</th>\n",
       "    </tr>\n",
       "  </thead>\n",
       "  <tbody>\n",
       "  </tbody>\n",
       "</table>\n",
       "</div>"
      ],
      "text/plain": [
       "Empty DataFrame\n",
       "Columns: [id, title, tags]\n",
       "Index: []"
      ]
     },
     "execution_count": 975,
     "metadata": {},
     "output_type": "execute_result"
    }
   ],
   "source": [
    "new_df[new_df['id']== 500063]"
   ]
  },
  {
   "cell_type": "code",
   "execution_count": 976,
   "id": "574fc339",
   "metadata": {},
   "outputs": [],
   "source": [
    "bg = [500063]"
   ]
  },
  {
   "cell_type": "code",
   "execution_count": null,
   "id": "3ecc21ba",
   "metadata": {},
   "outputs": [],
   "source": []
  },
  {
   "cell_type": "code",
   "execution_count": null,
   "id": "8d757d27",
   "metadata": {},
   "outputs": [],
   "source": []
  },
  {
   "cell_type": "code",
   "execution_count": null,
   "id": "189393f4",
   "metadata": {},
   "outputs": [],
   "source": []
  }
 ],
 "metadata": {
  "kernelspec": {
   "display_name": "Python 3.8.10 64-bit",
   "language": "python",
   "name": "python3"
  },
  "language_info": {
   "codemirror_mode": {
    "name": "ipython",
    "version": 3
   },
   "file_extension": ".py",
   "mimetype": "text/x-python",
   "name": "python",
   "nbconvert_exporter": "python",
   "pygments_lexer": "ipython3",
   "version": "3.8.10"
  },
  "vscode": {
   "interpreter": {
    "hash": "e7370f93d1d0cde622a1f8e1c04877d8463912d04d973331ad4851f04de6915a"
   }
  }
 },
 "nbformat": 4,
 "nbformat_minor": 5
}
